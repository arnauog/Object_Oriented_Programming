{
 "cells": [
  {
   "cell_type": "markdown",
   "metadata": {},
   "source": [
    "# OOP\n",
    "\n",
    "In this lab we will put into practice what we have seen in class.\n",
    "\n",
    "`NOTE: It is split in two different Exercise: Do NOT try to change the order as the idea is to build a class from scratch using all the steps on each exercise` \n",
    "\n",
    "Good Luck! "
   ]
  },
  {
   "cell_type": "markdown",
   "metadata": {},
   "source": [
    "## Exercise 1: Car Class\n",
    "\n",
    "Use the origina code below to start with the exercise: "
   ]
  },
  {
   "cell_type": "code",
   "execution_count": 34,
   "metadata": {},
   "outputs": [],
   "source": [
    "class Car:\n",
    "    def __init__(self, color): \n",
    "        self.color = color"
   ]
  },
  {
   "cell_type": "markdown",
   "metadata": {},
   "source": [
    "### 1.1: Basic Info\n",
    "\n",
    "- This class Car is incomplete. We need to have more attributes, in this case we will need the user to add the Brand of the car (p.e. Fiat, Volvo, etc\") and the number of wheels (always 4). Build the first function called info, where it should print all the information of the car.\n",
    "- Try using the upper, capitalize or lower methods of strings to make the print look realistic. "
   ]
  },
  {
   "cell_type": "code",
   "execution_count": 35,
   "metadata": {},
   "outputs": [],
   "source": [
    "class Car:\n",
    "    def __init__(self, color, brand): \n",
    "        self.color = color\n",
    "        self.brand = brand.capitalize()\n",
    "        self.wheels = 4\n",
    "    def info(self):\n",
    "        print(f\"Brand: {self.brand}\\nColor: {self.color.capitalize()}\")"
   ]
  },
  {
   "cell_type": "code",
   "execution_count": 36,
   "metadata": {},
   "outputs": [
    {
     "name": "stdout",
     "output_type": "stream",
     "text": [
      "Brand: Bmw\n",
      "Color: Red\n",
      "red\n"
     ]
    }
   ],
   "source": [
    "# try your code with this example\n",
    "bmw=Car(\"red\", \"BMW\")\n",
    "bmw.info()\n",
    "\n",
    "print(bmw.color)"
   ]
  },
  {
   "cell_type": "markdown",
   "metadata": {},
   "source": [
    "### 1.2: Turn On/Off\n",
    "\n",
    "- Set a new attribute called `engine`. In it there will only be two options, ON and OFF. Originally, this new attribute will be OFF as the car engine will be OFF. \n",
    "- Create two more methods called `encender` and `apagar`. Take into consideration that if the car is ON and you try the encender, a message should be printed: \"No se puede encender "
   ]
  },
  {
   "cell_type": "code",
   "execution_count": 37,
   "metadata": {},
   "outputs": [
    {
     "name": "stdout",
     "output_type": "stream",
     "text": [
      "Brand: Bmw\n",
      "Color: Red\n",
      "The engine is already turned OFF\n"
     ]
    }
   ],
   "source": [
    "# prova treient l'engine dels arguments i posant-lo només com a atribut\n",
    "\n",
    "class Car:\n",
    "    def __init__(self, color, brand): \n",
    "        self.color = color\n",
    "        self.brand = brand.capitalize()\n",
    "        self.wheels = 4\n",
    "        self.engine = 'OFF'\n",
    "    def info(self):\n",
    "        print(f\"Brand: {self.brand}\\nColor: {self.color.capitalize()}\")\n",
    "    def encender(self):\n",
    "        if self.engine == 'ON':\n",
    "            print (f\"The engine is already turned {self.engine}\")\n",
    "        else:\n",
    "            self.engine = 'ON'\n",
    "            print (f\"The engine is now turned {self.engine}\")         \n",
    "    def apagar(self):\n",
    "        if self.engine == 'ON':\n",
    "            self.engine = 'OFF'\n",
    "            print (f\"The engine is now turned {self.engine}\")\n",
    "        else:\n",
    "            print (f\"The engine is already turned {self.engine}\")\n",
    "\n",
    "bmw=Car(\"red\", \"BMW\")\n",
    "bmw.info()\n",
    "bmw.apagar()"
   ]
  },
  {
   "cell_type": "code",
   "execution_count": 38,
   "metadata": {},
   "outputs": [
    {
     "name": "stdout",
     "output_type": "stream",
     "text": [
      "The engine is already turned OFF\n",
      "The engine is now turned ON\n",
      "The engine is now turned OFF\n",
      "The engine is already turned OFF\n",
      "The engine is now turned ON\n",
      "The engine is already turned ON\n"
     ]
    }
   ],
   "source": [
    "#Try the method a couple of times to see if the behaviour of the car is working well (p.e. dos veces función encendida o 2 veces función apagada)\n",
    "\n",
    "Volvo = Car(\"silver\", \"volVo\")\n",
    "\n",
    "Volvo.apagar()\n",
    "Volvo.encender()\n",
    "Volvo.apagar()\n",
    "Volvo.apagar()\n",
    "Volvo.encender()\n",
    "Volvo.encender()"
   ]
  },
  {
   "cell_type": "markdown",
   "metadata": {},
   "source": [
    "### 1.3 Accelerate/reduce/break\n",
    "\n",
    "Here we are going to set a new attribute: `speed`. The original speed of each vehicle must be 0. We will then add three methods: acelerar, reducir and frenar. `acelerar` will increase the speed, `reducir` will reduce it and `frenar` will take it back to 0 again. \n",
    "Extra conditions: \n",
    "\n",
    "Try tu use the logic to know some basic interactions between this methods and the methods seen in 1.2. First try it yourself before revealing the hidden information!\n",
    "\n",
    "\n",
    "<details>\n",
    "    <summary> Expand the box to see the logic between methods </summary>\n",
    "    \n",
    "- The engine must be ON to use this 3 new method\n",
    "\n",
    "- If the speed is different to 0, you can not use the `apagar` method\n",
    "\n",
    "- If you use `reducir` to a number that makes the speed in negative numbers, you can not use reducir.  \n",
    "\n",
    "- To avoid using the `__dict__`, add the speed and the engine state as new info in the `info` method\n",
    "\n",
    "- For both `acelerar` and `reducir`, everytime you use this method you must send an argument (how much is the car accelerating and reducing everytime you call this function)\n",
    "\n",
    "</details>\n"
   ]
  },
  {
   "cell_type": "code",
   "execution_count": 39,
   "metadata": {},
   "outputs": [],
   "source": [
    "class Car:\n",
    "    def __init__(self, color, brand, speed=0): \n",
    "        self.color = color\n",
    "        self.brand = brand.capitalize()\n",
    "        self.wheels = 4\n",
    "        self.engine ='OFF'\n",
    "        self.speed = speed\n",
    "    def info(self):\n",
    "        print(f\"Brand: {self.brand}\\nColor: {self.color.capitalize()}\\nEngine: {self.engine}\\n Speed: {self.speed}\")\n",
    "    def encender(self):\n",
    "        if self.engine == 'ON':\n",
    "            print (f\"The engine is already turned {self.engine}\")\n",
    "        else:\n",
    "            self.engine = 'ON'\n",
    "            print (f\"The engine is now turned {self.engine}\")        \n",
    "    def apagar(self):\n",
    "        if self.engine == 'ON':\n",
    "            if self.speed > 0:\n",
    "                print (f\"You have to stop first\")\n",
    "            else:\n",
    "                self.engine = 'OFF'\n",
    "                print (f\"The engine is now turned {self.engine}\")\n",
    "        else:\n",
    "            print (f\"The engine is already turned {self.engine}\")\n",
    "    def acelerar(self, speed):\n",
    "        if self.engine == 'OFF':\n",
    "            print (f\"The engine is {self.engine}\")\n",
    "        else:\n",
    "            self.speed += speed\n",
    "            print (f\"You have accelerated {speed} km/h and you're now going at {self.speed} km/h\")\n",
    "    def reducir(self, speed):\n",
    "        if self.engine == 'OFF':\n",
    "            print (f\"The engine is {self.engine}\")\n",
    "        else:\n",
    "            if self.speed == 0:\n",
    "                print (f\"The car is already stopped\")\n",
    "            else:\n",
    "                if speed > self.speed:\n",
    "                    print (f\"You are not going that fast\")\n",
    "                else:\n",
    "                    self.speed -= speed\n",
    "                    print (f\"You have reduced {speed} km/h and you're now going at {self.speed} km/h\")\n",
    "    def frenar(self):\n",
    "        if self.engine == 'OFF':\n",
    "            print (f\"The engine is {self.engine}\")\n",
    "        else:\n",
    "            if self.speed == 0:\n",
    "                print (f\"The car is already stopped\")\n",
    "            else:\n",
    "                self.speed = 0\n",
    "                print (f\"You have pulled the brakes and you're now stopped\")        \n",
    "\n",
    "        # acelerar només és possible si engine = ON\n",
    "        # reducir només és possible si engine = ON i si speed final > 0\n",
    "        # frenar només és possible si engine = ON i si speed != 0\n",
    "        # apagar només és possible si engine = ON i si speed = 0\n",
    "        # info(): afegir speed i engine state\n"
   ]
  },
  {
   "cell_type": "code",
   "execution_count": 40,
   "metadata": {},
   "outputs": [],
   "source": [
    "#Try combos with this same car!\n",
    "bmw=Car(\"rojo\", \"BMW\")"
   ]
  },
  {
   "cell_type": "code",
   "execution_count": 41,
   "metadata": {},
   "outputs": [
    {
     "name": "stdout",
     "output_type": "stream",
     "text": [
      "The engine is now turned ON\n",
      "You have accelerated 5 km/h and you're now going at 5 km/h\n"
     ]
    }
   ],
   "source": [
    "#Try all the combinations you like and see if it works!\n",
    "\n",
    "# bmw.info()\n",
    "bmw.encender()\n",
    "bmw.acelerar(5)\n",
    "# bmw.reducir(4)\n",
    "# bmw.info()\n",
    "# bmw.apagar()\n",
    "# bmw.frenar()\n",
    "# bmw.info()\n",
    "# bmw.apagar()"
   ]
  },
  {
   "cell_type": "code",
   "execution_count": 42,
   "metadata": {},
   "outputs": [
    {
     "name": "stdout",
     "output_type": "stream",
     "text": [
      "Brand: Bmw\n",
      "Color: Rojo\n",
      "Engine: ON\n",
      " Speed: 5\n",
      "The engine is already turned ON\n",
      "You have accelerated 5 km/h and you're now going at 10 km/h\n",
      "You have reduced 4 km/h and you're now going at 6 km/h\n"
     ]
    }
   ],
   "source": [
    "#Try all the combinations you like and see if it works!\n",
    "\n",
    "bmw.info()\n",
    "bmw.encender()\n",
    "bmw.acelerar(5)\n",
    "bmw.reducir(4)\n",
    "#bmw.info()\n",
    "#bmw.apagar()\n",
    "#bmw.frenar()\n",
    "#bmw.apagar()"
   ]
  },
  {
   "cell_type": "markdown",
   "metadata": {},
   "source": [
    "### 1.4 Maximum Speed\n",
    "\n",
    "We will now set a new parameter the user should introduce: `max_speed`. If the user do NOT set this parameter, the **default value** should be 120\n",
    "\n",
    "(the code should work for both Car(\"blue\", \"FIAT\") and Car(\"purple\", \"Mini\", 130) )\n",
    "\n",
    "The only thing that must change from the previous code is that your speed can NEVER be over the limit of the car. If you try to accelerate more, the speed of the car will be max_speed. "
   ]
  },
  {
   "cell_type": "code",
   "execution_count": 43,
   "metadata": {},
   "outputs": [],
   "source": [
    "# Your Code here: \n",
    "\n",
    "class Car:\n",
    "    def __init__(self, color, brand, max_speed=120, speed=0): \n",
    "        self.color = color\n",
    "        self.brand = brand.capitalize()\n",
    "        self.wheels = 4\n",
    "        self.engine ='OFF'\n",
    "        self.speed = speed\n",
    "        self.max_speed = max_speed\n",
    "    def info(self):\n",
    "        print(f\"Brand: {self.brand}\\nColor: {self.color.capitalize()}\\nEngine: {self.engine}\\n Speed: {self.speed}\")\n",
    "    def encender(self):\n",
    "        if self.engine == 'ON':\n",
    "            print (f\"The engine is already turned {self.engine}\")\n",
    "        else:\n",
    "            self.engine = 'ON'\n",
    "            print (f\"The engine is now turned {self.engine}\")        \n",
    "    def apagar(self):\n",
    "        if self.engine == 'ON':\n",
    "            if self.speed > 0:\n",
    "                print (f\"You have to stop first\")\n",
    "            else:\n",
    "                self.engine = 'OFF'\n",
    "                print (f\"The engine is now turned {self.engine}\")\n",
    "        else:\n",
    "            print (f\"The engine is already turned {self.engine}\")\n",
    "    def acelerar(self, speed):\n",
    "        if self.engine == 'OFF':\n",
    "            print (f\"The engine is {self.engine}\")\n",
    "        else:\n",
    "            self.speed += speed\n",
    "            if self.speed < self.max_speed:                \n",
    "                print (f\"You have accelerated {speed} km/h and you're now going at {self.speed} km/h\")\n",
    "            else:\n",
    "                self.speed = self.max_speed\n",
    "                print (f\"You are at max speed: {self.max_speed} km/h\")\n",
    "    def reducir(self, speed):\n",
    "        if self.engine == 'OFF':\n",
    "            print (f\"The engine is {self.engine}\")\n",
    "        else:\n",
    "            if self.speed == 0:\n",
    "                print (f\"The car is already stopped\")\n",
    "            else:\n",
    "                if speed > self.speed:\n",
    "                    print (f\"You are not going that fast\")\n",
    "                elif self.speed > self.max_speed:\n",
    "                    self.max_speed -= speed\n",
    "                    print (f\"You have reduced {speed} km/h and yffou're now going at {self.max_speed} km/h\")\n",
    "                else:\n",
    "                    self.speed -= speed\n",
    "                    print (f\"You have reduced {speed} km/h and you're now going at {self.speed} km/h\")\n",
    "    def frenar(self):\n",
    "        if self.engine == 'OFF':\n",
    "            print (f\"The engine is {self.engine}\")\n",
    "        else:\n",
    "            if self.speed == 0:\n",
    "                print (f\"The car is already stopped\")\n",
    "            else:\n",
    "                self.speed = 0\n",
    "                print (f\"You have pulled the brakes and you're now stopped\")\n"
   ]
  },
  {
   "cell_type": "code",
   "execution_count": 44,
   "metadata": {},
   "outputs": [],
   "source": [
    "#try the code here: \n",
    "fiat = Car(\"red\", \"Fiat\", 130)"
   ]
  },
  {
   "cell_type": "code",
   "execution_count": 62,
   "metadata": {},
   "outputs": [
    {
     "name": "stdout",
     "output_type": "stream",
     "text": [
      "You have reduced 10 km/h and you're now going at 100 km/h\n",
      "100\n"
     ]
    }
   ],
   "source": [
    "# fiat.encender()\n",
    "# fiat.acelerar(50)\n",
    "fiat.reducir(10)\n",
    "print(fiat.speed)"
   ]
  },
  {
   "cell_type": "markdown",
   "metadata": {},
   "source": [
    "## Exercise 2: Inheritance\n",
    "\n",
    "Let's recover this example set in our class: "
   ]
  },
  {
   "cell_type": "code",
   "execution_count": 46,
   "metadata": {},
   "outputs": [],
   "source": [
    "class Staff ():\n",
    "        \n",
    "    def __init__ (self, name, fname):\n",
    "        self.name = name.capitalize()\n",
    "        self.fname = fname\n",
    "        \n",
    "        # Default\n",
    "        self.time_off = 20\n",
    "        \n",
    "        #Default: as a result\n",
    "        self.email = self.name.lower() + \".\" + self.fname.lower() + \"@ironhack.com\"\n",
    "        \n",
    "        self.hobbies = []\n",
    "        \n",
    "    \n",
    "    def introduce (self):\n",
    "        return f\"Hello, my name is {self.name}!\"\n",
    "    \n",
    "    def takes_days_off (self, number):\n",
    "        if self.time_off-number >= 0:\n",
    "            self.time_off -= number\n",
    "            return f\"Now you have {self.time_off} days off available\"\n",
    "        else:\n",
    "            return f\"Sorry, you ran out of days. Your total time_off available is {self.time_off}\"\n",
    "    \n",
    "    def hobbies_function (self, *hob): #passing an optional argument\n",
    "        if hob:\n",
    "            for i in hob:\n",
    "                self.hobbies.append(i)\n",
    "                print(f\"We added: {self.hobbies[-1]}\")\n",
    "            return self.hobbies_function()\n",
    "        else:\n",
    "            new = \", \".join([i for i in self.hobbies])\n",
    "            return f\"My hobbies are: {new}\""
   ]
  },
  {
   "cell_type": "markdown",
   "metadata": {},
   "source": [
    "### 2.1 Class Variable\n",
    "\n",
    "Create a class variable (attribute shared by everybody in the organization). This class variable will `company`, and it should be always **Ironhack**"
   ]
  },
  {
   "cell_type": "code",
   "execution_count": 5,
   "metadata": {},
   "outputs": [],
   "source": [
    "# Your code here: \n",
    "\n",
    "class Staff ():        \n",
    "    def __init__ (self, name, fname):\n",
    "        self.name = name.capitalize()\n",
    "        self.fname = fname\n",
    "        self.time_off = 20   \n",
    "        self.email = self.name.lower() + \".\" + self.fname.lower() + \"@ironhack.com\"        \n",
    "        self.hobbies = []\n",
    "        self.company = 'Ironhack'\n",
    "            \n",
    "    def introduce (self):\n",
    "        return f\"Hello, my name is {self.name}!\"\n",
    "    \n",
    "    def takes_days_off (self, number):\n",
    "        if self.time_off-number >= 0:\n",
    "            self.time_off -= number\n",
    "            return f\"Now you have {self.time_off} days off available\"\n",
    "        else:\n",
    "            return f\"Sorry, you ran out of days. Your total time_off available is {self.time_off}\"\n",
    "    \n",
    "    def hobbies_function (self, *hob): #passing an optional argument\n",
    "        if hob:\n",
    "            for i in hob:\n",
    "                self.hobbies.append(i)\n",
    "                print(f\"We added: {self.hobbies[-1]}\")\n",
    "            return self.hobbies_function()\n",
    "        else:\n",
    "            new = \", \".join([i for i in self.hobbies])\n",
    "            return f\"My hobbies are: {new}\""
   ]
  },
  {
   "cell_type": "markdown",
   "metadata": {},
   "source": [
    "### 1.2 Info Method\n",
    "\n",
    "As in the previous exercise, set a method to know all the information related with each person: Name, Surname, Time_Off Available, Mail, hobbies and Company"
   ]
  },
  {
   "cell_type": "code",
   "execution_count": 52,
   "metadata": {},
   "outputs": [],
   "source": [
    "# Your code here\n",
    "\n",
    "class Staff ():        \n",
    "    def __init__ (self, name, fname):\n",
    "        self.name = name.capitalize()\n",
    "        self.fname = fname\n",
    "        self.time_off = 20   \n",
    "        self.email = self.name.lower() + \".\" + self.fname.lower() + \"@ironhack.com\"        \n",
    "        self.hobbies = []\n",
    "        self.company = 'Ironhack'\n",
    "            \n",
    "    def introduce (self):\n",
    "        return f\"Hello, my name is {self.name} and I work at {self.company}!\"\n",
    "    \n",
    "    def takes_days_off (self, number):\n",
    "        if self.time_off-number >= 0:\n",
    "            self.time_off -= number\n",
    "            return f\"Now you have {self.time_off} days off available\"\n",
    "        else:\n",
    "            return f\"Sorry, you ran out of days. Your total time_off available is {self.time_off}\"\n",
    "    \n",
    "    def hobbies_function (self, *hob): #passing an optional argument\n",
    "        if hob:\n",
    "            for i in hob:\n",
    "                self.hobbies.append(i)\n",
    "                print(f\"We added: {self.hobbies[-1]}\")\n",
    "            return self.hobbies_function()\n",
    "        else:\n",
    "            new = \", \".join([i for i in self.hobbies])\n",
    "            return f\"My hobbies are: {new}\"\n",
    "        \n",
    "    def info (self):\n",
    "        print (f\"INFO:\\nName: {self.name}\\nSurname: {self.fname}\\nMail: {self.email}\\nCompany: {self.company}\\nTime Off Available: {self.time_off} days\\nHobbies: {\", \".join([i for i in self.hobbies])}\")"
   ]
  },
  {
   "cell_type": "code",
   "execution_count": 53,
   "metadata": {},
   "outputs": [
    {
     "name": "stdout",
     "output_type": "stream",
     "text": [
      "We added: Basketball\n",
      "We added: Board Games\n",
      "We added: Coding\n",
      "INFO:\n",
      "Name: Gonzalo\n",
      "Surname: Quesada\n",
      "Mail: gonzalo.quesada@ironhack.com\n",
      "Company: Ironhack\n",
      "Time Off Available: 20 days\n",
      "Hobbies: Basketball, Board Games, Coding\n"
     ]
    }
   ],
   "source": [
    "# Try it here!!\n",
    "\n",
    "bestteacherever=Staff(\"Gonzalo\", \"Quesada\")\n",
    "bestteacherever.hobbies_function(\"Basketball\", \"Board Games\", \"Coding\")\n",
    "# bestteacherever.takes_days_off(5)\n",
    "bestteacherever.info()\n",
    "# bestteacherever.introduce()"
   ]
  },
  {
   "cell_type": "code",
   "execution_count": 35,
   "metadata": {},
   "outputs": [
    {
     "data": {
      "text/plain": [
       "'My hobbies are: Basketball, Board Games, Coding'"
      ]
     },
     "execution_count": 35,
     "metadata": {},
     "output_type": "execute_result"
    }
   ],
   "source": [
    "bestteacherever.hobbies_function()"
   ]
  },
  {
   "cell_type": "markdown",
   "metadata": {},
   "source": [
    "### 1.3 Inheritance\n",
    "\n",
    "Now suppose the Marketing department works differently, but inside the organization. In other words, Staff will be the Parent Class and Marketing the Child. The differences are: \n",
    "\n",
    "- The mail must end with .mktg (for example, instead of laura.molas@ironhack.com it should be laura.molas.mktg@ironhack.com)\n",
    "- The total days they have of time_off is 30 (Lucky them...)\n",
    "- In addition, in the `introduce` method, they should salute the same as in Staff BUT adding that they are from the Marketing dpt. "
   ]
  },
  {
   "cell_type": "code",
   "execution_count": 54,
   "metadata": {},
   "outputs": [],
   "source": [
    "# Your code here: \n",
    "\n",
    "class Marketing(Staff):\n",
    "    def __init__ (self, name, fname):\n",
    "        self.name = name.capitalize()\n",
    "        self.fname = fname\n",
    "        self.time_off = 30   \n",
    "        self.email = self.name.lower() + \".\" + self.fname.lower() + '.mktg' + \"@ironhack.com\"        \n",
    "        self.hobbies = []\n",
    "        self.company = 'Ironhack'\n",
    "\n",
    "    def introduce (self):\n",
    "        return f\"Hello, my name is {self.name} and I work at {self.company} in the Marketing department!\""
   ]
  },
  {
   "cell_type": "code",
   "execution_count": 55,
   "metadata": {},
   "outputs": [
    {
     "name": "stdout",
     "output_type": "stream",
     "text": [
      "We added: Photography\n",
      "We added: Animals\n",
      "INFO:\n",
      "Name: Laura\n",
      "Surname: Molas\n",
      "Mail: laura.molas.mktg@ironhack.com\n",
      "Company: Ironhack\n",
      "Time Off Available: 30 days\n",
      "Hobbies: Photography, Animals\n"
     ]
    },
    {
     "data": {
      "text/plain": [
       "'Hello, my name is Laura and I work at Ironhack in the Marketing department!'"
      ]
     },
     "execution_count": 55,
     "metadata": {},
     "output_type": "execute_result"
    }
   ],
   "source": [
    "#Try if your Class is well defined with this example: \n",
    "mktg=Marketing(\"Laura\", \"Molas\")\n",
    "mktg.hobbies_function(\"Photography\", \"Animals\")\n",
    "mktg.info()\n",
    "mktg.introduce()"
   ]
  }
 ],
 "metadata": {
  "kernelspec": {
   "display_name": "local",
   "language": "python",
   "name": "python3"
  },
  "language_info": {
   "codemirror_mode": {
    "name": "ipython",
    "version": 3
   },
   "file_extension": ".py",
   "mimetype": "text/x-python",
   "name": "python",
   "nbconvert_exporter": "python",
   "pygments_lexer": "ipython3",
   "version": "3.12.5"
  }
 },
 "nbformat": 4,
 "nbformat_minor": 2
}
